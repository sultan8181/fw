{
 "cells": [
  {
   "cell_type": "code",
   "execution_count": 2,
   "metadata": {
    "collapsed": true
   },
   "outputs": [
    {
     "name": "stdout",
     "output_type": "stream",
     "text": [
      "Collecting git+https://github.com/python-visualization/branca\n",
      "  Cloning https://github.com/python-visualization/branca to c:\\users\\daran\\appdata\\local\\temp\\pip-req-build-9zg5nje7\n",
      "Requirement already satisfied: jinja2 in c:\\users\\daran\\anaconda3\\lib\\site-packages (from branca==0.4.2+6.ga872bef) (2.10)\n",
      "Requirement already satisfied: MarkupSafe>=0.23 in c:\\users\\daran\\anaconda3\\lib\\site-packages (from jinja2->branca==0.4.2+6.ga872bef) (1.0)\n"
     ]
    },
    {
     "name": "stderr",
     "output_type": "stream",
     "text": [
      "WARNING: Value for scheme.headers does not match. Please report this to <https://github.com/pypa/pip/issues/9617>\n",
      "distutils: c:\\users\\daran\\anaconda3\\Include\\UNKNOWN\n",
      "sysconfig: c:\\users\\daran\\anaconda3\\Include\n",
      "WARNING: Additional context:\n",
      "user = False\n",
      "home = None\n",
      "root = None\n",
      "prefix = None\n",
      "  Running command git clone -q https://github.com/python-visualization/branca 'C:\\Users\\daran\\AppData\\Local\\Temp\\pip-req-build-9zg5nje7'\n",
      "WARNING: Value for scheme.headers does not match. Please report this to <https://github.com/pypa/pip/issues/9617>\n",
      "distutils: c:\\users\\daran\\anaconda3\\Include\\UNKNOWN\n",
      "sysconfig: c:\\users\\daran\\anaconda3\\Include\n",
      "WARNING: Additional context:\n",
      "user = False\n",
      "home = None\n",
      "root = None\n",
      "prefix = None\n",
      "WARNING: You are using pip version 21.1; however, version 21.1.1 is available.\n",
      "You should consider upgrading via the 'c:\\users\\daran\\anaconda3\\python.exe -m pip install --upgrade pip' command.\n"
     ]
    },
    {
     "name": "stdout",
     "output_type": "stream",
     "text": [
      "Collecting git+https://github.com/sknzl/folium@update-css-url-to-https\n",
      "  Cloning https://github.com/sknzl/folium (to revision update-css-url-to-https) to c:\\users\\daran\\appdata\\local\\temp\\pip-req-build-wy52rl0o\n",
      "Requirement already satisfied: branca>=0.3.0 in c:\\users\\daran\\anaconda3\\lib\\site-packages (from folium==0.10.1+8.g4ea1307) (0.4.2+6.ga872bef)\n",
      "Requirement already satisfied: jinja2>=2.9 in c:\\users\\daran\\anaconda3\\lib\\site-packages (from folium==0.10.1+8.g4ea1307) (2.10)\n",
      "Requirement already satisfied: numpy in c:\\users\\daran\\anaconda3\\lib\\site-packages (from folium==0.10.1+8.g4ea1307) (1.15.1)\n",
      "Requirement already satisfied: requests in c:\\users\\daran\\anaconda3\\lib\\site-packages (from folium==0.10.1+8.g4ea1307) (2.19.1)\n",
      "Requirement already satisfied: MarkupSafe>=0.23 in c:\\users\\daran\\anaconda3\\lib\\site-packages (from jinja2>=2.9->folium==0.10.1+8.g4ea1307) (1.0)\n",
      "Requirement already satisfied: chardet<3.1.0,>=3.0.2 in c:\\users\\daran\\anaconda3\\lib\\site-packages (from requests->folium==0.10.1+8.g4ea1307) (3.0.4)\n",
      "Requirement already satisfied: certifi>=2017.4.17 in c:\\users\\daran\\anaconda3\\lib\\site-packages (from requests->folium==0.10.1+8.g4ea1307) (2020.6.20)\n",
      "Requirement already satisfied: urllib3<1.24,>=1.21.1 in c:\\users\\daran\\anaconda3\\lib\\site-packages (from requests->folium==0.10.1+8.g4ea1307) (1.23)\n",
      "Requirement already satisfied: idna<2.8,>=2.5 in c:\\users\\daran\\anaconda3\\lib\\site-packages (from requests->folium==0.10.1+8.g4ea1307) (2.7)\n"
     ]
    },
    {
     "name": "stderr",
     "output_type": "stream",
     "text": [
      "WARNING: Value for scheme.headers does not match. Please report this to <https://github.com/pypa/pip/issues/9617>\n",
      "distutils: c:\\users\\daran\\anaconda3\\Include\\UNKNOWN\n",
      "sysconfig: c:\\users\\daran\\anaconda3\\Include\n",
      "WARNING: Additional context:\n",
      "user = False\n",
      "home = None\n",
      "root = None\n",
      "prefix = None\n",
      "  Running command git clone -q https://github.com/sknzl/folium 'C:\\Users\\daran\\AppData\\Local\\Temp\\pip-req-build-wy52rl0o'\n",
      "  Running command git checkout -b update-css-url-to-https --track origin/update-css-url-to-https\n",
      "  Branch 'update-css-url-to-https' set up to track remote branch 'update-css-url-to-https' from 'origin'.\n",
      "  Switched to a new branch 'update-css-url-to-https'\n",
      "WARNING: Value for scheme.headers does not match. Please report this to <https://github.com/pypa/pip/issues/9617>\n",
      "distutils: c:\\users\\daran\\anaconda3\\Include\\UNKNOWN\n",
      "sysconfig: c:\\users\\daran\\anaconda3\\Include\n",
      "WARNING: Additional context:\n",
      "user = False\n",
      "home = None\n",
      "root = None\n",
      "prefix = None\n",
      "WARNING: You are using pip version 21.1; however, version 21.1.1 is available.\n",
      "You should consider upgrading via the 'c:\\users\\daran\\anaconda3\\python.exe -m pip install --upgrade pip' command.\n"
     ]
    }
   ],
   "source": [
    "!pip install git+https://github.com/python-visualization/branca\n",
    "!pip install git+https://github.com/sknzl/folium@update-css-url-to-https"
   ]
  },
  {
   "cell_type": "code",
   "execution_count": null,
   "metadata": {},
   "outputs": [],
   "source": [
    "#dependencies\n",
    "import numpy as np # linear algebra\n",
    "import pandas as pd # data processing, CSV file I/O (e.g. pd.read_csv)\n",
    "import matplotlib.pyplot as plt #plotting\n",
    "import seaborn as sns #for beatiful visualization\n",
    "import folium\n",
    "from folium import plugins\n",
    "\n",
    "#set file path\n",
    "import os\n",
    "for dirname, _, filenames in os.walk('/kaggle/input'):\n",
    "    for filename in filenames:\n",
    "        print(os.path.join(dirname, filename))"
   ]
  },
  {
   "cell_type": "code",
   "execution_count": null,
   "metadata": {},
   "outputs": [],
   "source": [
    "fire_nrt_m6 = pd.read_csv(\"../input/australian-bush-fire-satellite-data-nasa/fire_nrt_M6_101673.csv\")\n",
    "fire_archive_m6 = pd.read_csv(\"../input/australian-bush-fire-satellite-data-nasa/fire_archive_M6_101673.csv\")\n",
    "fire_nrt_v1 = pd.read_csv(\"../input/australian-bush-fire-satellite-data-nasa/fire_nrt_V1_101674.csv\")\n",
    "fire_archive_v1 = pd.read_csv(\"../input/australian-bush-fire-satellite-data-nasa/fire_archive_V1_101674.csv\")\n",
    "\n",
    "type(fire_nrt_v1)"
   ]
  },
  {
   "cell_type": "code",
   "execution_count": null,
   "metadata": {},
   "outputs": [],
   "source": [
    "df_merged = pd.concat([fire_archive_v1,fire_nrt_v1],sort=True)\n",
    "data = df_merged\n",
    "data.head()"
   ]
  },
  {
   "cell_type": "code",
   "execution_count": null,
   "metadata": {},
   "outputs": [],
   "source": [
    "df_filter = data.filter([\"latitude\",\"longitude\",\"acq_date\",\"frp\"])\n",
    "df_filter.head()"
   ]
  },
  {
   "cell_type": "code",
   "execution_count": null,
   "metadata": {},
   "outputs": [],
   "source": [
    "df = df_filter[df_filter['acq_date']>='2019-11-01']\n",
    "df.head()"
   ]
  },
  {
   "cell_type": "code",
   "execution_count": null,
   "metadata": {},
   "outputs": [],
   "source": [
    "dfdate = df[['acq_date','frp']].set_index('acq_date')\n",
    "dfdate_highest = dfdate.groupby('acq_date').sum().sort_values(by='frp',ascending=False)\n",
    "dfdate_highest.head(10)"
   ]
  },
  {
   "cell_type": "code",
   "execution_count": null,
   "metadata": {},
   "outputs": [],
   "source": []
  },
  {
   "cell_type": "code",
   "execution_count": null,
   "metadata": {},
   "outputs": [],
   "source": []
  },
  {
   "cell_type": "code",
   "execution_count": null,
   "metadata": {},
   "outputs": [],
   "source": []
  }
 ],
 "metadata": {
  "kernelspec": {
   "display_name": "Python 3",
   "language": "python",
   "name": "python3"
  },
  "language_info": {
   "codemirror_mode": {
    "name": "ipython",
    "version": 3
   },
   "file_extension": ".py",
   "mimetype": "text/x-python",
   "name": "python",
   "nbconvert_exporter": "python",
   "pygments_lexer": "ipython3",
   "version": "3.7.0"
  }
 },
 "nbformat": 4,
 "nbformat_minor": 2
}
